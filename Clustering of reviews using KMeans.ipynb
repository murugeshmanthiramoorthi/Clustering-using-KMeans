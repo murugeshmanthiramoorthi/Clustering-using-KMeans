{
 "cells": [
  {
   "cell_type": "code",
   "execution_count": 1,
   "metadata": {},
   "outputs": [],
   "source": [
    "import numpy as np \n",
    "import pandas as pd \n",
    "import matplotlib.pyplot as plt\n",
    "import seaborn as sns\n",
    "from sklearn.feature_extraction import text\n",
    "from sklearn.feature_extraction.text import TfidfVectorizer\n",
    "from sklearn.cluster import KMeans\n",
    "from nltk.tokenize import RegexpTokenizer\n",
    "from nltk.stem.snowball import SnowballStemmer\n",
    "from sklearn.feature_extraction import text\n",
    "%matplotlib inline"
   ]
  },
  {
   "cell_type": "code",
   "execution_count": 7,
   "metadata": {},
   "outputs": [
    {
     "data": {
      "text/plain": [
       "(107018, 2)"
      ]
     },
     "execution_count": 7,
     "metadata": {},
     "output_type": "execute_result"
    }
   ],
   "source": [
    "data = pd.read_csv('reviews.csv', usecols = [\"Id\", \"Review\"])\n",
    "data.shape"
   ]
  },
  {
   "cell_type": "code",
   "execution_count": 12,
   "metadata": {},
   "outputs": [],
   "source": [
    "punc = ['.', ',', '\"', \"'\", '?', '!', ':', ';', '(', ')', '[', ']', '{', '}',\"%\"]\n",
    "stop_words = text.ENGLISH_STOP_WORDS.union(punc)\n",
    "desc = data['Review'].values\n",
    "vectorizer = TfidfVectorizer(stop_words = stop_words)\n",
    "X = vectorizer.fit_transform(desc)"
   ]
  },
  {
   "cell_type": "code",
   "execution_count": 13,
   "metadata": {},
   "outputs": [
    {
     "name": "stdout",
     "output_type": "stream",
     "text": [
      "32793\n",
      "['chomsky', 'choose', 'choosen', 'chooses', 'choosing', 'chop', 'chopin', 'chopped', 'chopping', 'choppy', 'chopra', 'chops', 'choral', 'chord', 'chords', 'chore', 'chores', 'chorister', 'chorus', 'chose', 'chosen', 'choses', 'chossed', 'chow', 'chowdhury', 'chris', 'chrissy', 'chrissytignor', 'christ', 'christian', 'christians', 'christine', 'christinegreat', 'christmas', 'christophe', 'christopher', 'christpher', 'chromatic', 'chrome', 'chromebook', 'chromosme', 'chromosome', 'chronic', 'chronicles', 'chronograph', 'chronological', 'chronologically', 'chronology', 'chrysanthmums', 'chuch', 'chuck', 'chuck_is_amazing', 'chuckand', 'chuckle', 'chuckling', 'chucks', 'chucky', 'chuckyou', 'chuffed', 'chug', 'chuk', 'chunck', 'chung', 'chunk', 'chunkable', 'chunked', 'chunking', 'chunks', 'chunkthank', 'chunky', 'church', 'churk', 'churn', 'ci', 'cia', 'ciao', 'cidade', 'cience', 'cilck', 'cinco', 'cinema', 'cinematography', 'cio', 'cios', 'cipher', 'ciphers', 'circle', 'circled', 'circles', 'circuit', 'circuits', 'circular', 'circulates', 'circulation', 'circumference', 'circumstance', 'circumstances', 'circumstantial', 'circumvent', 'circunstances']\n"
     ]
    }
   ],
   "source": [
    "word_features = vectorizer.get_feature_names()\n",
    "print(len(word_features))\n",
    "print(word_features[5000:5100])"
   ]
  },
  {
   "cell_type": "code",
   "execution_count": 17,
   "metadata": {},
   "outputs": [],
   "source": [
    "stemmer = SnowballStemmer('english')\n",
    "tokenizer = RegexpTokenizer(r'[a-zA-Z\\']+')\n",
    "def tokenize(text):\n",
    "    return [stemmer.stem(word) for word in tokenizer.tokenize(text.lower())]"
   ]
  },
  {
   "cell_type": "code",
   "execution_count": 18,
   "metadata": {},
   "outputs": [
    {
     "name": "stderr",
     "output_type": "stream",
     "text": [
      "/home/murugesh/anaconda3/lib/python3.7/site-packages/sklearn/feature_extraction/text.py:385: UserWarning: Your stop_words may be inconsistent with your preprocessing. Tokenizing the stop words generated tokens ['abov', 'afterward', 'alon', 'alreadi', 'alway', 'ani', 'anoth', 'anyon', 'anyth', 'anywher', 'becam', 'becaus', 'becom', 'befor', 'besid', 'cri', 'describ', 'dure', 'els', 'elsewher', 'empti', 'everi', 'everyon', 'everyth', 'everywher', 'fifti', 'forti', 'henc', 'hereaft', 'herebi', 'howev', 'hundr', 'inde', 'mani', 'meanwhil', 'moreov', 'nobodi', 'noon', 'noth', 'nowher', 'onc', 'onli', 'otherwis', 'ourselv', 'perhap', 'pleas', 'sever', 'sinc', 'sincer', 'sixti', 'someon', 'someth', 'sometim', 'somewher', 'themselv', 'thenc', 'thereaft', 'therebi', 'therefor', 'togeth', 'twelv', 'twenti', 'veri', 'whatev', 'whenc', 'whenev', 'wherea', 'whereaft', 'wherebi', 'wherev', 'whi', 'yourselv'] not in stop_words.\n",
      "  'stop_words.' % sorted(inconsistent))\n"
     ]
    },
    {
     "name": "stdout",
     "output_type": "stream",
     "text": [
      "21543\n",
      "[\"''\", \"'a\", \"'addict\", \"'d\", \"'i\", \"'just'\", \"'k\", \"'m\", \"'n\", \"'package'\", \"'s\", \"'t\", \"'the\", \"a'\", 'aa', 'aaa', 'aaaa', 'aaargh', 'aaha', 'aalaikom', 'aalst', 'aand', 'aarabi', 'aaron', 'ab', 'aback', 'abackground', 'abahia', 'abandon', 'abandond', 'abandonend', 'abarca', 'abarcar', 'abbey', 'abbott', 'abbrevi', 'abc', 'abcdefg', 'abdalsama', 'abdc', 'abdelnaeem', 'abdomen', 'abdomin', 'abduladheem', 'abhishek', 'abid', 'abig', 'abil', 'abilti', 'abit']\n"
     ]
    }
   ],
   "source": [
    "vectorizer2 = TfidfVectorizer(stop_words = stop_words, tokenizer = tokenize)\n",
    "X2 = vectorizer2.fit_transform(desc)\n",
    "word_features2 = vectorizer2.get_feature_names()\n",
    "print(len(word_features2))\n",
    "print(word_features2[:50]) "
   ]
  },
  {
   "cell_type": "code",
   "execution_count": 19,
   "metadata": {},
   "outputs": [
    {
     "name": "stderr",
     "output_type": "stream",
     "text": [
      "/home/murugesh/anaconda3/lib/python3.7/site-packages/sklearn/feature_extraction/text.py:385: UserWarning: Your stop_words may be inconsistent with your preprocessing. Tokenizing the stop words generated tokens ['abov', 'afterward', 'alon', 'alreadi', 'alway', 'ani', 'anoth', 'anyon', 'anyth', 'anywher', 'becam', 'becaus', 'becom', 'befor', 'besid', 'cri', 'describ', 'dure', 'els', 'elsewher', 'empti', 'everi', 'everyon', 'everyth', 'everywher', 'fifti', 'forti', 'henc', 'hereaft', 'herebi', 'howev', 'hundr', 'inde', 'mani', 'meanwhil', 'moreov', 'nobodi', 'noon', 'noth', 'nowher', 'onc', 'onli', 'otherwis', 'ourselv', 'perhap', 'pleas', 'sever', 'sinc', 'sincer', 'sixti', 'someon', 'someth', 'sometim', 'somewher', 'themselv', 'thenc', 'thereaft', 'therebi', 'therefor', 'togeth', 'twelv', 'twenti', 'veri', 'whatev', 'whenc', 'whenev', 'wherea', 'whereaft', 'wherebi', 'wherev', 'whi', 'yourselv'] not in stop_words.\n",
      "  'stop_words.' % sorted(inconsistent))\n"
     ]
    }
   ],
   "source": [
    "vectorizer3 = TfidfVectorizer(stop_words = stop_words, tokenizer = tokenize, max_features = 1000)\n",
    "X3 = vectorizer3.fit_transform(desc)\n",
    "words = vectorizer3.get_feature_names()"
   ]
  },
  {
   "cell_type": "code",
   "execution_count": 20,
   "metadata": {},
   "outputs": [
    {
     "data": {
      "image/png": "[encoded data removed]",
      "text/plain": [
       "<Figure size 432x288 with 1 Axes>"
      ]
     },
     "metadata": {
      "needs_background": "light"
     },
     "output_type": "display_data"
    }
   ],
   "source": [
    "from sklearn.cluster import KMeans\n",
    "wcss = []\n",
    "for i in range(1,11):\n",
    "    kmeans = KMeans(n_clusters=i,init='k-means++',max_iter=300,n_init=10,random_state=0)\n",
    "    kmeans.fit(X3)\n",
    "    wcss.append(kmeans.inertia_)\n",
    "plt.plot(range(1,11),wcss)\n",
    "plt.title('The Elbow Method')\n",
    "plt.xlabel('Number of clusters')\n",
    "plt.ylabel('WCSS')\n",
    "plt.savefig('elbow.png')\n",
    "plt.show()\n"
   ]
  },
  {
   "cell_type": "code",
   "execution_count": 21,
   "metadata": {},
   "outputs": [
    {
     "name": "stdout",
     "output_type": "stream",
     "text": [
      "0 : love, cours, veri, thank, great, realli, learn, professor, lot, way, teacher, inform, easi, amaz, good, class, just, use, help, teach, instructor, lectur, explain, understand, content\n",
      "1 : cours, great, realli, veri, good, understand, help, like, best, assign, lectur, easi, inform, recommend, enjoy, use, materi, basic, video, amaz, nice, time, lot, way, content\n",
      "2 : good, veri, cours, introduct, realli, beginn, basic, start, learn, teacher, content, materi, inform, pretti, easi, explan, introductori, understand, python, lectur, assign, great, exampl, class, program\n",
      "3 : awesom, cours, thank, learn, realli, teacher, veri, great, instructor, lot, professor, just, love, chuck, beginn, dr, class, experi, teach, simpli, help, recommend, lectur, content, python\n",
      "4 : use, veri, cours, thank, inform, realli, good, great, practic, lot, learn, easi, help, understand, clear, like, tool, basic, recommend, nice, knowledg, enjoy, content, materi, beginn\n",
      "5 : veri, cours, help, inform, nice, easi, clear, understand, great, explain, good, practic, basic, enjoy, like, thank, lectur, present, structur, recommend, teacher, lot, professor, materi, follow\n",
      "6 : learn, cours, lot, machin, great, veri, realli, help, thank, good, new, thing, way, use, recommend, want, best, enjoy, easi, experi, start, understand, basic, program, python\n",
      "7 : excel, cours, veri, thank, teacher, learn, great, materi, recommend, introduct, professor, lot, inform, content, high, good, teach, realli, present, beginn, instructor, understand, enjoy, clear, lectur\n",
      "8 : great, cours, teacher, class, realli, professor, beginn, recommend, instructor, learn, introduct, content, introductori, veri, inform, just, high, enjoy, materi, experi, easi, lot, start, insight, lectur\n",
      "9 : thank, cours, great, veri, lot, help, realli, coursera, good, learn, professor, dr, amaz, enjoy, wonder, teacher, inform, chuck, andrew, nice, like, best, team, univers, learnt\n"
     ]
    }
   ],
   "source": [
    "kmeans = KMeans(n_clusters = 10, n_init = 20, n_jobs = 1) # n_init(number of iterations for clsutering) n_jobs(number of cpu cores to use)\n",
    "kmeans.fit(X3)\n",
    "common_words = kmeans.cluster_centers_.argsort()[:,-1:-26:-1]\n",
    "for num, centroid in enumerate(common_words):\n",
    "    print(str(num) + ' : ' + ', '.join(words[word] for word in centroid))"
   ]
  },
  {
   "cell_type": "code",
   "execution_count": null,
   "metadata": {},
   "outputs": [],
   "source": []
  }
 ],
 "metadata": {
  "kernelspec": {
   "display_name": "Python 3",
   "language": "python",
   "name": "python3"
  },
  "language_info": {
   "codemirror_mode": {
    "name": "ipython",
    "version": 3
   },
   "file_extension": ".py",
   "mimetype": "text/x-python",
   "name": "python",
   "nbconvert_exporter": "python",
   "pygments_lexer": "ipython3",
   "version": "3.7.3"
  }
 },
 "nbformat": 4,
 "nbformat_minor": 4
}
